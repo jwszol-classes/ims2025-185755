{
 "cells": [
  {
   "cell_type": "raw",
   "id": "890ce885-da52-484c-8d5b-ddbf37478326",
   "metadata": {
    "execution": {
     "iopub.execute_input": "2025-02-18T12:55:37.860115Z",
     "iopub.status.busy": "2025-02-18T12:55:37.859672Z",
     "iopub.status.idle": "2025-02-18T12:55:37.911759Z",
     "shell.execute_reply": "2025-02-18T12:55:37.911020Z",
     "shell.execute_reply.started": "2025-02-18T12:55:37.860030Z"
    },
    "tags": []
   },
   "source": [
    "sc.install_pypi_package(\"openmeteo-requests\")\n",
    "sc.install_pypi_package(\"requests-cache\")\n",
    "sc.install_pypi_package(\"retry-requests\")\n",
    "sc.install_pypi_package(\"numpy\")\n",
    "sc.install_pypi_package(\"pandas\")\n",
    "sc.install_pypi_package(\"matplotlib\")\n",
    "sc.install_pypi_package(\"boto3\")\n",
    "sc.list_packages()"
   ]
  },
  {
   "cell_type": "raw",
   "id": "6771f21a-d2e1-4c20-9489-089bb843ebd2",
   "metadata": {
    "execution": {
     "iopub.execute_input": "2025-02-18T12:55:48.686795Z",
     "iopub.status.busy": "2025-02-18T12:55:48.686558Z",
     "iopub.status.idle": "2025-02-18T12:55:57.995282Z",
     "shell.execute_reply": "2025-02-18T12:55:57.994609Z",
     "shell.execute_reply.started": "2025-02-18T12:55:48.686765Z"
    },
    "tags": []
   },
   "source": []
  },
  {
   "cell_type": "raw",
   "id": "42897330-918e-4b78-a1ba-753a65c7a363",
   "metadata": {
    "execution": {
     "iopub.execute_input": "2025-02-18T13:16:17.176945Z",
     "iopub.status.busy": "2025-02-18T13:16:17.176726Z",
     "iopub.status.idle": "2025-02-18T13:16:22.459831Z",
     "shell.execute_reply": "2025-02-18T13:16:22.458948Z",
     "shell.execute_reply.started": "2025-02-18T13:16:17.176921Z"
    }
   },
   "source": []
  },
  {
   "cell_type": "code",
   "execution_count": null,
   "id": "14d32b43-16a7-4272-a3b5-f289f0d7dfe3",
   "metadata": {
    "tags": []
   },
   "outputs": [],
   "source": [
    "import openmeteo_requests\n",
    "import requests\n",
    "import boto3\n",
    "import requests_cache\n",
    "import pandas as pd\n",
    "from retry_requests import retry\n",
    "\n",
    "from pyspark.sql import SparkSession\n",
    "\n",
    "import matplotlib.pyplot as plt\n",
    "import numpy as np\n",
    "\n",
    "from datetime import datetime, timedelta\n"
   ]
  },
  {
   "cell_type": "code",
   "execution_count": null,
   "id": "7be9578b-85e7-4bb4-897f-668ed98a8358",
   "metadata": {
    "tags": []
   },
   "outputs": [],
   "source": [
    "spark = SparkSession.builder.appName(\"WeatherData\").getOrCreate()"
   ]
  },
  {
   "cell_type": "code",
   "execution_count": null,
   "id": "2a26f4b8-c22d-412a-932e-c17102cf7854",
   "metadata": {
    "tags": []
   },
   "outputs": [],
   "source": [
    "cache_session = requests_cache.CachedSession('.cache', expire_after = 3600)\n",
    "retry_session = retry(cache_session, retries = 5, backoff_factor = 0.2)\n",
    "openmeteo = openmeteo_requests.Client(session = retry_session)\n",
    "\n",
    "# Make sure all required weather variables are listed here\n",
    "# The order of variables in hourly or daily is important to assign them correctly below\n",
    "url = \"https://historical-forecast-api.open-meteo.com/v1/forecast\"\n",
    "params = {\n",
    "\t\"latitude\": 54.3523,\n",
    "\t\"longitude\": 18.6491,\n",
    "\t\"start_date\": \"2021-03-23\",\n",
    "\t\"end_date\": \"2025-02-16\",\n",
    "\t\"hourly\": \"temperature_2m\"\n",
    "}\n",
    "responses = openmeteo.weather_api(url, params=params)\n",
    "\n",
    "# Process hourly data. The order of variables needs to be the same as requested.\n",
    "hourly = response.Hourly()\n",
    "hourly_temperature_2m = hourly.Variables(0).ValuesAsNumpy()\n",
    "\n",
    "hourly_data = {\"date\": pd.date_range(\n",
    "\tstart = pd.to_datetime(hourly.Time(), unit = \"s\", utc = True),\n",
    "\tend = pd.to_datetime(hourly.TimeEnd(), unit = \"s\", utc = True),\n",
    "\tfreq = pd.Timedelta(seconds = hourly.Interval()),\n",
    "\tinclusive = \"left\"\n",
    ")}\n",
    "\n",
    "hourly_data[\"temperature_2m\"] = hourly_temperature_2m\n",
    "\n",
    "hourly_dataframe = pd.DataFrame(data = hourly_data)"
   ]
  },
  {
   "cell_type": "code",
   "execution_count": null,
   "id": "34775961-6a38-401f-8980-aa4413c39632",
   "metadata": {
    "tags": []
   },
   "outputs": [],
   "source": [
    "s3_client = boto3.client('s3')\n",
    "s3_bucket = \"sparkcalculations\"\n",
    "file_path = \"/tmp/weather_data.csv\"\n",
    "hourly_dataframe.to_csv(file_path, index=False)\n",
    "s3_client.upload_file(file_path, s3_bucket, \"data/weather_data.csv\")"
   ]
  }
 ],
 "metadata": {
  "kernelspec": {
   "display_name": "PySpark",
   "language": "python",
   "name": "pysparkkernel"
  },
  "language_info": {
   "codemirror_mode": {
    "name": "python",
    "version": 3
   },
   "file_extension": ".py",
   "mimetype": "text/x-python",
   "name": "pyspark",
   "pygments_lexer": "python3"
  }
 },
 "nbformat": 4,
 "nbformat_minor": 5
}
