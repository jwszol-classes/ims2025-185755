{
 "cells": [
  {
   "cell_type": "code",
   "execution_count": null,
   "id": "8515897c-ff30-4007-a266-b3022f9b7d42",
   "metadata": {},
   "outputs": [],
   "source": [
    "sc.install_pypi_package(\"numpy==1.26.4\")\n",
    "sc.install_pypi_package(\"pandas\")\n",
    "sc.install_pypi_package(\"matplotlib\")\n",
    "sc.install_pypi_package(\"altair\")"
   ]
  },
  {
   "cell_type": "code",
   "execution_count": null,
   "id": "b884dc22-5627-4a60-9cd8-7e1a5d4a2c48",
   "metadata": {},
   "outputs": [],
   "source": [
    "from pyspark.sql import SparkSession\n",
    "from pyspark.sql import functions as F\n",
    "from pyspark.sql.functions import col, avg, stddev, window, year, month\n",
    "from pyspark.ml.regression import DecisionTreeRegressor\n",
    "from pyspark.ml.feature import VectorAssembler\n",
    "from pyspark.sql.window import Window\n",
    "from pyspark.sql.functions import lag\n",
    "from pyspark.ml import Pipeline\n",
    "from pyspark.ml.evaluation import RegressionEvaluator\n",
    "import matplotlib.pyplot as plt\n",
    "import numpy as np\n",
    "import pandas as pd\n",
    "\n",
    "import random\n",
    "from datetime import datetime, timedelta"
   ]
  },
  {
   "cell_type": "code",
   "execution_count": null,
   "id": "f7f1995a-cef7-46d6-a8b8-93208b88efc5",
   "metadata": {},
   "outputs": [],
   "source": [
    "spark = SparkSession.builder.appName(\"WeatherAnalise\").getOrCreate()"
   ]
  },
  {
   "cell_type": "code",
   "execution_count": null,
   "id": "c32680a3-7faf-4127-a59a-ccb558e7e486",
   "metadata": {},
   "outputs": [],
   "source": [
    "s3_bucket = \"sparkcalculations\"\n",
    "csvInput = f\"s3://{s3_bucket}/data/weather_data.csv\"\n",
    "\n",
    "dataFile = spark.read.csv(csvInput, header = True)\n",
    "dataFile.show(19)"
   ]
  },
  {
   "cell_type": "code",
   "execution_count": null,
   "id": "cde02830-c4ed-44d0-b963-51c408e32588",
   "metadata": {},
   "outputs": [],
   "source": [
    "df_with_time = dataFile.withColumn(\"year\", F.year(\"date\")) \\\n",
    "                          .withColumn(\"month\", F.month(\"date\")) \\\n",
    "                          .withColumn(\"day\", F.day(\"date\")) \\\n",
    "                          .withColumn(\"hour\", F.hour(\"date\")) \n",
    "\n",
    "df_with_time.show(10)"
   ]
  },
  {
   "cell_type": "code",
   "execution_count": null,
   "id": "d25a781e-c09c-46e0-bf51-4a556c7b5f49",
   "metadata": {},
   "outputs": [],
   "source": [
    "df_with_time = df_with_time.withColumn(\"date\", F.to_date(\"date\"))\n",
    "df_with_time = df_with_time.select([\"date\", \"year\", \"month\", \"day\", \"hour\", \"temperature_2m\"])\n",
    "df_with_time.show(10)"
   ]
  },
  {
   "cell_type": "code",
   "execution_count": null,
   "id": "080c9505-89d3-412a-a8e7-ea08ef441936",
   "metadata": {},
   "outputs": [],
   "source": [
    "# Tworzymy okno czasowe oparte na dacie\n",
    "window_spec = Window.orderBy(\"date\")\n",
    "\n",
    "# Flaga dla temperatury powyżej 32.2°C\n",
    "df_hot = df_with_time.withColumn(\"is_hot\", (col(\"temperature_2m\") > 32.2).cast(\"int\"))\n",
    "\n",
    "# Tworzymy kolumny z przesunięciem (-1, -2 dla poprzednich dni)\n",
    "df_hot = df_hot.withColumn(\"prev_1\", lag(\"is_hot\", 1).over(window_spec)) \\\n",
    "               .withColumn(\"prev_2\", lag(\"is_hot\", 2).over(window_spec))\n",
    "\n",
    "# Identyfikacja fal ciepła: 3 dni pod rząd powyżej 32.2°C\n",
    "df_heatwaves = df_hot.filter((col(\"is_hot\") == 1) & (col(\"prev_1\") == 1) & (col(\"prev_2\") == 1))\n",
    "\n",
    "df_heatwaves.select(\"date\", \"temperature_2m\").show(50, truncate=False)\n"
   ]
  },
  {
   "cell_type": "code",
   "execution_count": null,
   "id": "1c66e5c1-e9a3-4e97-acf3-a7973c952f1f",
   "metadata": {},
   "outputs": [
    {
     "data": {
      "application/vnd.jupyter.widget-view+json": {
       "model_id": "",
       "version_major": 2,
       "version_minor": 0
      },
      "text/plain": [
       "VBox()"
      ]
     },
     "metadata": {},
     "output_type": "display_data"
    },
    {
     "data": {
      "application/vnd.jupyter.widget-view+json": {
       "model_id": "",
       "version_major": 2,
       "version_minor": 0
      },
      "text/plain": [
       "FloatProgress(value=0.0, bar_style='info', description='Progress:', layout=Layout(height='25px', width='50%'),…"
      ]
     },
     "metadata": {},
     "output_type": "display_data"
    },
    {
     "name": "stdout",
     "output_type": "stream",
     "text": [
      "+--------------+----------+----------+-------------+\n",
      "|heatwave_group|start_date|  end_date|duration_days|\n",
      "+--------------+----------+----------+-------------+\n",
      "|             1|2022-07-01|2022-07-01|            2|\n",
      "|             2|2022-07-21|2022-07-21|            5|\n",
      "|             3|2022-08-04|2022-08-04|            3|\n",
      "|             4|2022-08-05|2022-08-05|            5|\n",
      "|             5|2022-08-16|2022-08-16|            4|\n",
      "|             6|2022-08-19|2022-08-19|            5|\n",
      "|             7|2023-08-15|2023-08-15|            1|\n",
      "|             8|2024-06-30|2024-06-30|            3|\n",
      "|             9|2024-07-10|2024-07-10|            2|\n",
      "+--------------+----------+----------+-------------+"
     ]
    }
   ],
   "source": [
    "from pyspark.sql.functions import dense_rank\n",
    "\n",
    "# Tworzymy unikalny identyfikator dla każdej fali ciepła\n",
    "df_heatwaves = df_heatwaves.withColumn(\"heatwave_group\", dense_rank().over(Window.orderBy(\"date\")))\n",
    "\n",
    "# Grupowanie po okresach\n",
    "df_grouped = df_heatwaves.groupBy(\"heatwave_group\").agg(\n",
    "    F.min(\"date\").alias(\"start_date\"),\n",
    "    F.max(\"date\").alias(\"end_date\"),\n",
    "    F.count(\"*\").alias(\"duration_days\")\n",
    ")\n",
    "\n",
    "df_grouped.show()\n"
   ]
  },
  {
   "cell_type": "code",
   "execution_count": null,
   "id": "56e4b479-3e43-4a82-9fb9-4cf5b94284db",
   "metadata": {},
   "outputs": [],
   "source": [
    "df_daily_hot = df_with_time.groupBy(\"date\").agg(\n",
    "    F.max((col(\"temperature_2m\") > 25.2).cast(\"int\")).alias(\"is_hot_day\")\n",
    ").filter(col(\"is_hot_day\") == 1)\n",
    "df_daily_hot.show(30)"
   ]
  },
  {
   "cell_type": "code",
   "execution_count": null,
   "id": "38ed332b-61e6-455e-98b3-f1baca0bd516",
   "metadata": {},
   "outputs": [
    {
     "data": {
      "application/vnd.jupyter.widget-view+json": {
       "model_id": "",
       "version_major": 2,
       "version_minor": 0
      },
      "text/plain": [
       "VBox()"
      ]
     },
     "metadata": {},
     "output_type": "display_data"
    },
    {
     "data": {
      "application/vnd.jupyter.widget-view+json": {
       "model_id": "",
       "version_major": 2,
       "version_minor": 0
      },
      "text/plain": [
       "FloatProgress(value=0.0, bar_style='info', description='Progress:', layout=Layout(height='25px', width='50%'),…"
      ]
     },
     "metadata": {},
     "output_type": "display_data"
    }
   ],
   "source": [
    "window_spec = Window.orderBy(\"date\")\n",
    "\n",
    "df_heatwaves = df_with_time.withColumn(\"prev_1\", lag(\"date\", 1).over(window_spec)) \\\n",
    "                           .withColumn(\"prev_2\", lag(\"date\", 2).over(window_spec))\n",
    "\n",
    "# Warunek: czy poprzednie 2 dni również były gorące\n",
    "df_heatwaves = df_heatwaves.filter(\n",
    "    (col(\"prev_1\").isNotNull()) & (col(\"prev_2\").isNotNull()) & \n",
    "    ((F.datediff(col(\"date\"), col(\"prev_1\")) == 1)) & ((F.datediff(col(\"prev_1\"), col(\"prev_2\")) == 1)\n",
    ")\n",
    ")\n",
    "\n",
    "df_heatwaves.select(\"date\").show(50, truncate=False)"
   ]
  },
  {
   "cell_type": "code",
   "execution_count": null,
   "id": "5e847541-c920-4a34-8379-2123dadd9c19",
   "metadata": {},
   "outputs": [],
   "source": [
    "df_daily_hot = df_daily.groupBy(\"date\").agg(\n",
    "    max((col(\"temperature_2m\") > 32.2).cast(\"int\")).alias(\"is_hot_day\")\n",
    ").filter(col(\"is_hot_day\") == 1)\n",
    "\n",
    "window_spec = Window.orderBy(\"date_only\")\n",
    "\n",
    "df_heatwaves = df_daily_hot.withColumn(\"prev_1\", lag(\"date\", 1).over(window_spec)) \\\n",
    "                           .withColumn(\"prev_2\", lag(\"date\", 2).over(window_spec))\n",
    "\n",
    "df_heatwaves = df_heatwaves.filter(\n",
    "    (col(\"prev_1\").isNotNull()) & (col(\"prev_2\").isNotNull()) & \n",
    "    (datediff(col(\"date\"), col(\"prev_1\")) == 1) & \n",
    "    (datediff(col(\"prev_1\"), col(\"prev_2\")) == 1)\n",
    ")\n",
    "\n",
    "df_heatwaves.select(\"date\").show(50, truncate=False)"
   ]
  },
  {
   "cell_type": "code",
   "execution_count": null,
   "id": "bec97e0e-e3f8-4da8-af28-c8fd4d438da7",
   "metadata": {},
   "outputs": [],
   "source": []
  },
  {
   "cell_type": "code",
   "execution_count": null,
   "id": "f5173003",
   "metadata": {},
   "outputs": [],
   "source": [
    "sc.install_pypi_package(\"numpy==1.26.4\")\n",
    "sc.install_pypi_package(\"pandas\")\n",
    "sc.install_pypi_package(\"matplotlib\")\n",
    "sc.install_pypi_package(\"altair\")"
   ]
  },
  {
   "cell_type": "code",
   "execution_count": null,
   "id": "89e0b816",
   "metadata": {},
   "outputs": [],
   "source": [
    "from pyspark.sql import SparkSession\n",
    "from pyspark.sql import functions as F\n",
    "from pyspark.sql.functions import col, avg, stddev, window, year, month\n",
    "from pyspark.ml.regression import DecisionTreeRegressor\n",
    "from pyspark.ml.feature import VectorAssembler\n",
    "from pyspark.sql.window import Window\n",
    "from pyspark.sql.functions import lag\n",
    "from pyspark.ml import Pipeline\n",
    "from pyspark.ml.evaluation import RegressionEvaluator\n",
    "import matplotlib.pyplot as plt\n",
    "import numpy as np\n",
    "import pandas as pd\n",
    "\n",
    "import random\n",
    "from datetime import datetime, timedelta"
   ]
  },
  {
   "cell_type": "code",
   "execution_count": null,
   "id": "ebd9f4bb",
   "metadata": {},
   "outputs": [],
   "source": [
    "spark = SparkSession.builder.appName(\"WeatherAnalise\").getOrCreate()"
   ]
  },
  {
   "cell_type": "code",
   "execution_count": null,
   "id": "432053ba",
   "metadata": {},
   "outputs": [],
   "source": [
    "s3_bucket = \"sparkcalculations\"\n",
    "csvInput = f\"s3://{s3_bucket}/data/weather_data.csv\"\n",
    "\n",
    "dataFile = spark.read.csv(csvInput, header = True)\n",
    "dataFile.show(19)"
   ]
  },
  {
   "cell_type": "code",
   "execution_count": null,
   "id": "f45278c8",
   "metadata": {},
   "outputs": [],
   "source": [
    "df_with_time = dataFile.withColumn(\"year\", F.year(\"date\")) \\\n",
    "                          .withColumn(\"month\", F.month(\"date\")) \\\n",
    "                          .withColumn(\"day\", F.day(\"date\")) \\\n",
    "                          .withColumn(\"hour\", F.hour(\"date\")) \n",
    "\n",
    "df_with_time.show(10)"
   ]
  },
  {
   "cell_type": "code",
   "execution_count": null,
   "id": "33d17d00",
   "metadata": {},
   "outputs": [],
   "source": [
    "df_with_time = df_with_time.withColumn(\"date\", F.to_date(\"date\"))\n",
    "df_with_time = df_with_time.select([\"date\", \"year\", \"month\", \"day\", \"hour\", \"temperature_2m\"])\n",
    "df_with_time.show(10)"
   ]
  },
  {
   "cell_type": "code",
   "execution_count": 7,
   "id": "58eae992-566a-420c-ad9f-d8048916e1f9",
   "metadata": {
    "execution": {
     "iopub.execute_input": "2025-02-18T16:16:26.982244Z",
     "iopub.status.busy": "2025-02-18T16:16:26.982047Z",
     "iopub.status.idle": "2025-02-18T16:16:29.280593Z",
     "shell.execute_reply": "2025-02-18T16:16:29.279911Z",
     "shell.execute_reply.started": "2025-02-18T16:16:26.982220Z"
    },
    "tags": []
   },
   "outputs": [
    {
     "data": {
      "application/vnd.jupyter.widget-view+json": {
       "model_id": "cbe353451f014d73bbf95f40c37e1176",
       "version_major": 2,
       "version_minor": 0
      },
      "text/plain": [
       "VBox()"
      ]
     },
     "metadata": {},
     "output_type": "display_data"
    },
    {
     "data": {
      "application/vnd.jupyter.widget-view+json": {
       "model_id": "",
       "version_major": 2,
       "version_minor": 0
      },
      "text/plain": [
       "FloatProgress(value=0.0, bar_style='info', description='Progress:', layout=Layout(height='25px', width='50%'),…"
      ]
     },
     "metadata": {},
     "output_type": "display_data"
    },
    {
     "name": "stdout",
     "output_type": "stream",
     "text": [
      "+----------+----------+\n",
      "|      date| prev_date|\n",
      "+----------+----------+\n",
      "|2021-06-18|      NULL|\n",
      "|2021-06-19|2021-06-18|\n",
      "|2021-06-20|2021-06-19|\n",
      "|2021-06-21|2021-06-20|\n",
      "|2021-06-22|2021-06-21|\n",
      "|2021-06-29|2021-06-22|\n",
      "|2021-06-30|2021-06-29|\n",
      "|2021-07-06|2021-06-30|\n",
      "|2021-07-07|2021-07-06|\n",
      "|2021-07-09|2021-07-07|\n",
      "+----------+----------+\n",
      "only showing top 10 rows"
     ]
    }
   ],
   "source": [
    "hot_day = 25\n",
    "df_hot_days = df_with_time.filter(col(\"temperature_2m\") > hot_day).select(\"date\").distinct()\n",
    "\n",
    "window_spec = Window.orderBy(\"date\")\n",
    "df_hot_days = df_hot_days.withColumn(\"prev_date\", F.lag(\"date\").over(window_spec))\n",
    "df_hot_days.show(10)\n"
   ]
  },
  {
   "cell_type": "code",
   "execution_count": 8,
   "id": "f1c6412f-05fd-415d-8b36-cbdba3e5069b",
   "metadata": {
    "execution": {
     "iopub.execute_input": "2025-02-18T16:16:29.282374Z",
     "iopub.status.busy": "2025-02-18T16:16:29.282152Z",
     "iopub.status.idle": "2025-02-18T16:16:30.833956Z",
     "shell.execute_reply": "2025-02-18T16:16:30.833279Z",
     "shell.execute_reply.started": "2025-02-18T16:16:29.282347Z"
    },
    "tags": []
   },
   "outputs": [
    {
     "data": {
      "application/vnd.jupyter.widget-view+json": {
       "model_id": "565bbbdd3bde40d9bc661dc0b00ccfb1",
       "version_major": 2,
       "version_minor": 0
      },
      "text/plain": [
       "VBox()"
      ]
     },
     "metadata": {},
     "output_type": "display_data"
    },
    {
     "data": {
      "application/vnd.jupyter.widget-view+json": {
       "model_id": "",
       "version_major": 2,
       "version_minor": 0
      },
      "text/plain": [
       "FloatProgress(value=0.0, bar_style='info', description='Progress:', layout=Layout(height='25px', width='50%'),…"
      ]
     },
     "metadata": {},
     "output_type": "display_data"
    },
    {
     "name": "stdout",
     "output_type": "stream",
     "text": [
      "+----------+----------+--------+----------+\n",
      "|      date| prev_date|new_wave|wave_group|\n",
      "+----------+----------+--------+----------+\n",
      "|2021-06-18|      NULL|       1|         1|\n",
      "|2021-06-19|2021-06-18|       0|         1|\n",
      "|2021-06-20|2021-06-19|       0|         1|\n",
      "|2021-06-21|2021-06-20|       0|         1|\n",
      "|2021-06-22|2021-06-21|       0|         1|\n",
      "|2021-06-29|2021-06-22|       1|         2|\n",
      "|2021-06-30|2021-06-29|       0|         2|\n",
      "|2021-07-06|2021-06-30|       1|         3|\n",
      "|2021-07-07|2021-07-06|       0|         3|\n",
      "|2021-07-09|2021-07-07|       1|         4|\n",
      "+----------+----------+--------+----------+\n",
      "only showing top 10 rows"
     ]
    }
   ],
   "source": [
    "df_hot_days = df_hot_days.withColumn(\n",
    "    \"new_wave\", \n",
    "    F.when(F.datediff(\"date\", \"prev_date\") == 1, 0).otherwise(1)\n",
    ")\n",
    "df_hot_days = df_hot_days.withColumn(\n",
    "    \"wave_group\",\n",
    "    F.sum(\"new_wave\").over(window_spec)\n",
    ")\n",
    "df_hot_days.show(10)"
   ]
  },
  {
   "cell_type": "code",
   "execution_count": 9,
   "id": "c31a52c7-d053-41d2-8905-e9f9b1135b7e",
   "metadata": {
    "execution": {
     "iopub.execute_input": "2025-02-18T16:16:30.835231Z",
     "iopub.status.busy": "2025-02-18T16:16:30.835052Z",
     "iopub.status.idle": "2025-02-18T16:16:32.103764Z",
     "shell.execute_reply": "2025-02-18T16:16:32.102780Z",
     "shell.execute_reply.started": "2025-02-18T16:16:30.835208Z"
    },
    "tags": []
   },
   "outputs": [
    {
     "data": {
      "application/vnd.jupyter.widget-view+json": {
       "model_id": "7569a2e939ef4563a6b9994108fc9333",
       "version_major": 2,
       "version_minor": 0
      },
      "text/plain": [
       "VBox()"
      ]
     },
     "metadata": {},
     "output_type": "display_data"
    },
    {
     "data": {
      "application/vnd.jupyter.widget-view+json": {
       "model_id": "",
       "version_major": 2,
       "version_minor": 0
      },
      "text/plain": [
       "FloatProgress(value=0.0, bar_style='info', description='Progress:', layout=Layout(height='25px', width='50%'),…"
      ]
     },
     "metadata": {},
     "output_type": "display_data"
    },
    {
     "name": "stdout",
     "output_type": "stream",
     "text": [
      "+----------+----------+----------+-------------+\n",
      "|wave_group|start_date|end_date  |duration_days|\n",
      "+----------+----------+----------+-------------+\n",
      "|1         |2021-06-18|2021-06-22|5            |\n",
      "|5         |2021-07-13|2021-07-16|4            |\n",
      "|7         |2021-07-25|2021-07-29|5            |\n",
      "|13        |2022-06-24|2022-06-28|5            |\n",
      "|16        |2022-07-19|2022-07-23|5            |\n",
      "|18        |2022-08-03|2022-08-05|3            |\n",
      "|19        |2022-08-12|2022-08-20|9            |\n",
      "|20        |2022-08-26|2022-08-28|3            |\n",
      "|26        |2023-07-15|2023-07-17|3            |\n",
      "|32        |2023-09-08|2023-09-13|6            |\n",
      "|39        |2024-06-26|2024-06-28|3            |\n",
      "|46        |2024-08-14|2024-08-17|4            |\n",
      "+----------+----------+----------+-------------+"
     ]
    }
   ],
   "source": [
    "\n",
    "df_heatwaves = df_hot_days.groupBy(\"wave_group\").agg(\n",
    "    F.min(\"date\").alias(\"start_date\"),\n",
    "    F.max(\"date\").alias(\"end_date\"),\n",
    "    F.count(\"*\").alias(\"duration_days\")\n",
    ").filter(\"duration_days >= 3\")\n",
    "\n",
    "\n",
    "df_heatwaves.show(truncate=False)"
   ]
  },
  {
   "cell_type": "code",
   "execution_count": null,
   "id": "4c5c6cc3-d8a7-487b-9a28-765d2c3f037b",
   "metadata": {
    "tags": []
   },
   "outputs": [],
   "source": []
  },
  {
   "cell_type": "code",
   "execution_count": null,
   "id": "7dc786a2-706c-420a-a190-d4286497f18d",
   "metadata": {
    "tags": []
   },
   "outputs": [],
   "source": []
  },
  {
   "cell_type": "code",
   "execution_count": null,
   "id": "4f2b8bf6-0e75-4225-b082-ecfc5b38e862",
   "metadata": {
    "tags": []
   },
   "outputs": [],
   "source": []
  },
  {
   "cell_type": "code",
   "execution_count": null,
   "id": "f8596fdf-6f0c-4885-af6b-822d344d0e63",
   "metadata": {},
   "outputs": [],
   "source": []
  }
 ],
 "metadata": {
  "kernelspec": {
   "display_name": "PySpark",
   "language": "python",
   "name": "pysparkkernel"
  },
  "language_info": {
   "codemirror_mode": {
    "name": "python",
    "version": 3
   },
   "file_extension": ".py",
   "mimetype": "text/x-python",
   "name": "pyspark",
   "pygments_lexer": "python3"
  }
 },
 "nbformat": 4,
 "nbformat_minor": 5
}
